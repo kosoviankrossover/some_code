{
 "cells": [
  {
   "cell_type": "code",
   "execution_count": 1,
   "metadata": {},
   "outputs": [
    {
     "data": {
      "image/jpeg": "[encoded data removed]",
      "text/plain": [
       "<IPython.core.display.Image object>"
      ]
     },
     "execution_count": 1,
     "metadata": {},
     "output_type": "execute_result"
    }
   ],
   "source": [
    "from IPython.display import Image\n",
    "Image('../images/towers.jpg')"
   ]
  },
  {
   "cell_type": "markdown",
   "metadata": {},
   "source": [
    "The task: move the towers of discs from A to C - it doesn't matter that we label them because we can flip B and C back and forth - with the following rules: 1) you can only move one disc at a time; 2) a larger disc cannot be placed on top of a smaller disc. Play the game at https://www.mathsisfun.com/games/towerofhanoi.html."
   ]
  },
  {
   "cell_type": "code",
   "execution_count": 2,
   "metadata": {},
   "outputs": [
    {
     "name": "stdout",
     "output_type": "stream",
     "text": [
      "Move a disc from A to C\n"
     ]
    }
   ],
   "source": [
    "# simple move\n",
    "# : move a disc from A to C\n",
    "def simple_move(_from, _to):\n",
    "    print('Move a disc from {} to {}'.format(_from, _to))\n",
    "simple_move('A', 'C')"
   ]
  },
  {
   "cell_type": "markdown",
   "metadata": {},
   "source": [
    "# Recursion: \n",
    "**IF** we know how to properly move the top n-1 discs from A to B, **THEN** the solution would be easy:\n",
    "\n",
    "1) move the top n-1 discs from A to B\n",
    "\n",
    "2) simply move the bottom disc in A to C\n",
    "\n",
    "3) move the top n-1 discs from B to C\n",
    "\n",
    "Important to note, however, is that we need to keep track of the disc holders. We do this through the concept of a 'helper' disc holder which serves as the place where we first move the top set of discs. In the above, the 'helper' disc holder would be 'B'. \n",
    "\n",
    "What's our base case?\n",
    "\n",
    "Our base case is the no-move move i.e. if no discs are left to move do nothing. Then, the case of moving one disc from A to C is as follows: move 0 discs from A to C through B i.e. do nothing (pass), then move a disc from A to C, and finally, move zero discs from B to C through A (pass). "
   ]
  },
  {
   "cell_type": "code",
   "execution_count": 3,
   "metadata": {},
   "outputs": [],
   "source": [
    "# our recrusive solution\n",
    "# counter\n",
    "counter = 0\n",
    "def solution(n, _from, _helper, _to):\n",
    "    global counter\n",
    "    if n < 0:\n",
    "        exit('Negative discs')\n",
    "    elif n == 0:\n",
    "        pass # do nothing \n",
    "    else:\n",
    "        solution(n-1, _from, _to, _helper)\n",
    "        simple_move(_from, _to)\n",
    "        counter += 1\n",
    "        solution(n-1, _helper, _from, _to)"
   ]
  },
  {
   "cell_type": "code",
   "execution_count": 4,
   "metadata": {},
   "outputs": [
    {
     "name": "stdout",
     "output_type": "stream",
     "text": [
      "-------------------------\n",
      "Towers of Hanoi | 0 Discs\n",
      "-------------------------\n",
      "Total number of moves = 0\n",
      "\n",
      "-------------------------\n",
      "Towers of Hanoi | 1 Discs\n",
      "-------------------------\n",
      "Move a disc from A to C\n",
      "Total number of moves = 1\n",
      "\n",
      "-------------------------\n",
      "Towers of Hanoi | 2 Discs\n",
      "-------------------------\n",
      "Move a disc from A to B\n",
      "Move a disc from A to C\n",
      "Move a disc from B to C\n",
      "Total number of moves = 3\n",
      "\n",
      "-------------------------\n",
      "Towers of Hanoi | 3 Discs\n",
      "-------------------------\n",
      "Move a disc from A to C\n",
      "Move a disc from A to B\n",
      "Move a disc from C to B\n",
      "Move a disc from A to C\n",
      "Move a disc from B to A\n",
      "Move a disc from B to C\n",
      "Move a disc from A to C\n",
      "Total number of moves = 7\n",
      "\n",
      "-------------------------\n",
      "Towers of Hanoi | 4 Discs\n",
      "-------------------------\n",
      "Move a disc from A to B\n",
      "Move a disc from A to C\n",
      "Move a disc from B to C\n",
      "Move a disc from A to B\n",
      "Move a disc from C to A\n",
      "Move a disc from C to B\n",
      "Move a disc from A to B\n",
      "Move a disc from A to C\n",
      "Move a disc from B to C\n",
      "Move a disc from B to A\n",
      "Move a disc from C to A\n",
      "Move a disc from B to C\n",
      "Move a disc from A to B\n",
      "Move a disc from A to C\n",
      "Move a disc from B to C\n",
      "Total number of moves = 15\n",
      "\n",
      "-------------------------\n",
      "Towers of Hanoi | 5 Discs\n",
      "-------------------------\n",
      "Move a disc from A to C\n",
      "Move a disc from A to B\n",
      "Move a disc from C to B\n",
      "Move a disc from A to C\n",
      "Move a disc from B to A\n",
      "Move a disc from B to C\n",
      "Move a disc from A to C\n",
      "Move a disc from A to B\n",
      "Move a disc from C to B\n",
      "Move a disc from C to A\n",
      "Move a disc from B to A\n",
      "Move a disc from C to B\n",
      "Move a disc from A to C\n",
      "Move a disc from A to B\n",
      "Move a disc from C to B\n",
      "Move a disc from A to C\n",
      "Move a disc from B to A\n",
      "Move a disc from B to C\n",
      "Move a disc from A to C\n",
      "Move a disc from B to A\n",
      "Move a disc from C to B\n",
      "Move a disc from C to A\n",
      "Move a disc from B to A\n",
      "Move a disc from B to C\n",
      "Move a disc from A to C\n",
      "Move a disc from A to B\n",
      "Move a disc from C to B\n",
      "Move a disc from A to C\n",
      "Move a disc from B to A\n",
      "Move a disc from B to C\n",
      "Move a disc from A to C\n",
      "Total number of moves = 31\n",
      "\n"
     ]
    }
   ],
   "source": [
    "# print some solutions\n",
    "fill = 25\n",
    "n_discs = 5\n",
    "for i in range(n_discs+1):\n",
    "    print('-'*fill)\n",
    "    print('Towers of Hanoi | {} Discs'.format(i))\n",
    "    print('-'*fill)\n",
    "    solution(i, 'A', 'B', 'C')\n",
    "    print('Total number of moves = {}'.format(counter))\n",
    "    print()\n",
    "    counter = 0"
   ]
  },
  {
   "cell_type": "markdown",
   "metadata": {},
   "source": [
    "Prove to yourself that these are in fact the solutions by playing at https://www.mathsisfun.com/games/towerofhanoi.html."
   ]
  }
 ],
 "metadata": {
  "kernelspec": {
   "display_name": "Python 3",
   "language": "python",
   "name": "python3"
  },
  "language_info": {
   "codemirror_mode": {
    "name": "ipython",
    "version": 3
   },
   "file_extension": ".py",
   "mimetype": "text/x-python",
   "name": "python",
   "nbconvert_exporter": "python",
   "pygments_lexer": "ipython3",
   "version": "3.6.8"
  }
 },
 "nbformat": 4,
 "nbformat_minor": 2
}
